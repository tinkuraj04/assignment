{
 "cells": [
  {
   "cell_type": "code",
   "execution_count": 16,
   "id": "0557bcf0-274d-4899-ac71-bee110fd5408",
   "metadata": {},
   "outputs": [],
   "source": [
    "class pwskills:\n",
    "    def __init__(self, name, email):\n",
    "        self.name = name\n",
    "        self.email = email\n",
    "        \n",
    "    def students_details(self):\n",
    "        print(self.name , self.email)"
   ]
  },
  {
   "cell_type": "code",
   "execution_count": 17,
   "id": "5b425492-bad7-474b-aaca-bd44b9c85c29",
   "metadata": {},
   "outputs": [],
   "source": [
    "pw = pwskills(\"mohan\", \"mohan@gmail.com\")"
   ]
  },
  {
   "cell_type": "code",
   "execution_count": 18,
   "id": "2d0c87a3-203f-44d3-96e7-f4cb84836e95",
   "metadata": {},
   "outputs": [
    {
     "data": {
      "text/plain": [
       "'mohan'"
      ]
     },
     "execution_count": 18,
     "metadata": {},
     "output_type": "execute_result"
    }
   ],
   "source": [
    "pw.name"
   ]
  },
  {
   "cell_type": "code",
   "execution_count": 19,
   "id": "ea69a24e-66d3-4979-9fa4-389217e5e2e9",
   "metadata": {},
   "outputs": [
    {
     "data": {
      "text/plain": [
       "'mohan@gmail.com'"
      ]
     },
     "execution_count": 19,
     "metadata": {},
     "output_type": "execute_result"
    }
   ],
   "source": [
    "pw.email"
   ]
  },
  {
   "cell_type": "code",
   "execution_count": 20,
   "id": "fb6a3a7f-9102-4c82-9f96-5cc44d2511b8",
   "metadata": {},
   "outputs": [
    {
     "name": "stdout",
     "output_type": "stream",
     "text": [
      "mohan mohan@gmail.com\n"
     ]
    }
   ],
   "source": [
    "pw.students_details()"
   ]
  },
  {
   "cell_type": "code",
   "execution_count": 24,
   "id": "c98ec6da-fe8a-4e7d-a1e7-ba2316388c7a",
   "metadata": {},
   "outputs": [],
   "source": [
    "class pwskills1:\n",
    "    def __init__(self, name, email):\n",
    "        self.name = name\n",
    "        self.email = email\n",
    "        \n",
    "    @classmethod\n",
    "    def details(cls , name,email):\n",
    "        return cls(name,email)\n",
    "        \n",
    "        \n",
    "    def students_details(self):\n",
    "        print(self.name , self.email)"
   ]
  },
  {
   "cell_type": "code",
   "execution_count": 26,
   "id": "c8e91afb-b0a3-4621-9da0-63737ad5b003",
   "metadata": {},
   "outputs": [],
   "source": [
    "pw1 = pwskills1.details(\"sudh\",\"sudh@gmail.com\")"
   ]
  },
  {
   "cell_type": "code",
   "execution_count": 27,
   "id": "c42e1266-2086-4ecb-a44d-e779f029fe63",
   "metadata": {},
   "outputs": [
    {
     "data": {
      "text/plain": [
       "'sudh'"
      ]
     },
     "execution_count": 27,
     "metadata": {},
     "output_type": "execute_result"
    }
   ],
   "source": [
    "pw1.name"
   ]
  },
  {
   "cell_type": "code",
   "execution_count": 28,
   "id": "3a63efc7-ac7d-4645-b952-78d1dacbe9d9",
   "metadata": {},
   "outputs": [
    {
     "data": {
      "text/plain": [
       "'sudh@gmail.com'"
      ]
     },
     "execution_count": 28,
     "metadata": {},
     "output_type": "execute_result"
    }
   ],
   "source": [
    "pw1.email"
   ]
  },
  {
   "cell_type": "code",
   "execution_count": 31,
   "id": "8b8d2c61-5044-41c3-8b73-e75202fb5eaf",
   "metadata": {},
   "outputs": [
    {
     "name": "stdout",
     "output_type": "stream",
     "text": [
      "sudh sudh@gmail.com\n"
     ]
    }
   ],
   "source": [
    "pw1.students_details()"
   ]
  },
  {
   "cell_type": "code",
   "execution_count": 40,
   "id": "b7572c42-022a-4e6d-b012-cb3d3a30c79e",
   "metadata": {},
   "outputs": [],
   "source": [
    "class pwskills2:\n",
    "    \n",
    "    mobile_num = 9798508719\n",
    "    \n",
    "    def __init__(self, name, email):\n",
    "        self.name = name\n",
    "        self.email = email\n",
    "        \n",
    "    @classmethod\n",
    "    def change_number(cls,mobile):\n",
    "        pwskills2.mobile_num = mobile\n",
    "        \n",
    "    @classmethod\n",
    "    def details(cls , name,email):\n",
    "        return cls(name,email)\n",
    "        \n",
    "        \n",
    "    def students_details(self):\n",
    "        print(self.name , self.email,pwskills2.mobile_num)"
   ]
  },
  {
   "cell_type": "code",
   "execution_count": 41,
   "id": "93011bf8-90d0-4cb8-ae74-e9fd93127e5b",
   "metadata": {},
   "outputs": [],
   "source": [
    "pwskills2.change_number(7837438390)"
   ]
  },
  {
   "cell_type": "code",
   "execution_count": 42,
   "id": "7d1affe2-b2c0-4d27-9055-877219057efe",
   "metadata": {},
   "outputs": [],
   "source": [
    "pw_obj = pwskills(\"sudh\", \"sudh@gmail.com\")"
   ]
  },
  {
   "cell_type": "code",
   "execution_count": 43,
   "id": "cf1b2cb8-ebe2-4edb-9409-c90d29d680b0",
   "metadata": {},
   "outputs": [],
   "source": [
    "class pwskills3:\n",
    "    \n",
    "    mobile_num = 9798508719\n",
    "    \n",
    "    def __init__(self, name, email):\n",
    "        self.name = name\n",
    "        self.email = email\n",
    "        \n",
    "    @classmethod\n",
    "    def change_number(cls,mobile):\n",
    "        pwskills2.mobile_num = mobile\n",
    "        \n",
    "    @classmethod\n",
    "    def details(cls , name,email):\n",
    "        return cls(name,email)\n",
    "        \n",
    "        \n",
    "    def students_details(self):\n",
    "        print(self.name , self.email,pwskills2.mobile_num)"
   ]
  },
  {
   "cell_type": "code",
   "execution_count": 44,
   "id": "68b6e1de-b294-48f5-8ade-b342aa906827",
   "metadata": {},
   "outputs": [],
   "source": [
    "def course_details(cls,course_name):\n",
    "    print(\"course name is\", course_name)"
   ]
  },
  {
   "cell_type": "code",
   "execution_count": 45,
   "id": "00e3d483-1e8f-407c-98b7-2a3cf25de656",
   "metadata": {},
   "outputs": [],
   "source": [
    "pwskills3.course_details = classmethod(course_details)"
   ]
  },
  {
   "cell_type": "code",
   "execution_count": 46,
   "id": "389cd953-5a6a-4fff-a9d5-11e1a9cd73f1",
   "metadata": {},
   "outputs": [
    {
     "name": "stdout",
     "output_type": "stream",
     "text": [
      "course name is data science masters\n"
     ]
    }
   ],
   "source": [
    "pwskills3.course_details(\"data science masters\")"
   ]
  },
  {
   "cell_type": "code",
   "execution_count": 47,
   "id": "a4dbe343-0e07-4631-ba6e-91bb3cba1740",
   "metadata": {},
   "outputs": [],
   "source": [
    "def mentor(cls , list_of_mentor):\n",
    "    print(list_of_mentor)"
   ]
  },
  {
   "cell_type": "code",
   "execution_count": 48,
   "id": "e029a176-3c18-4bff-b64a-600e11d29d90",
   "metadata": {},
   "outputs": [],
   "source": [
    "pwskills3.mentor = classmethod(mentor)"
   ]
  },
  {
   "cell_type": "code",
   "execution_count": 49,
   "id": "603a9971-987c-4aa5-ab9b-79e0691bd49b",
   "metadata": {},
   "outputs": [
    {
     "name": "stdout",
     "output_type": "stream",
     "text": [
      "['sudh', 'krish']\n"
     ]
    }
   ],
   "source": [
    "pwskills3.mentor([\"sudh\", \"krish\"])"
   ]
  },
  {
   "cell_type": "code",
   "execution_count": 51,
   "id": "1a132feb-50a1-4b22-852b-ede1356a8768",
   "metadata": {},
   "outputs": [],
   "source": [
    "class pwskills4:\n",
    "    \n",
    "    mobile_num = 9798508719\n",
    "    \n",
    "    def __init__(self, name, email):\n",
    "        self.name = name\n",
    "        self.email = email\n",
    "        \n",
    "    @classmethod\n",
    "    def change_number(cls,mobile):\n",
    "        pwskills2.mobile_num = mobile\n",
    "        \n",
    "    @classmethod\n",
    "    def details(cls , name,email):\n",
    "        return cls(name,email)\n",
    "        \n",
    "        \n",
    "    def students_details(self):\n",
    "        print(self.name , self.email,pwskills2.mobile_num)"
   ]
  },
  {
   "cell_type": "code",
   "execution_count": 52,
   "id": "eefe9975-c87a-42a2-85de-6c7587d316bb",
   "metadata": {},
   "outputs": [],
   "source": [
    "del pwskills4.change_number"
   ]
  },
  {
   "cell_type": "code",
   "execution_count": 55,
   "id": "5501f26e-39cc-4267-93aa-f3ef65057da0",
   "metadata": {},
   "outputs": [
    {
     "ename": "SyntaxError",
     "evalue": "invalid syntax (3268467497.py, line 1)",
     "output_type": "error",
     "traceback": [
      "\u001b[1;36m  File \u001b[1;32m\"C:\\Users\\Hp\\AppData\\Local\\Temp\\ipykernel_7764\\3268467497.py\"\u001b[1;36m, line \u001b[1;32m1\u001b[0m\n\u001b[1;33m    pwskills4.(4637747333)\u001b[0m\n\u001b[1;37m              ^\u001b[0m\n\u001b[1;31mSyntaxError\u001b[0m\u001b[1;31m:\u001b[0m invalid syntax\n"
     ]
    }
   ],
   "source": [
    "pwskills4.(4637747333)"
   ]
  },
  {
   "cell_type": "code",
   "execution_count": 57,
   "id": "26b65ec4-9798-4a7a-a91a-b13534f6db37",
   "metadata": {},
   "outputs": [
    {
     "ename": "AttributeError",
     "evalue": "details",
     "output_type": "error",
     "traceback": [
      "\u001b[1;31m---------------------------------------------------------------------------\u001b[0m",
      "\u001b[1;31mAttributeError\u001b[0m                            Traceback (most recent call last)",
      "\u001b[1;32m~\\AppData\\Local\\Temp\\ipykernel_7764\\1511291492.py\u001b[0m in \u001b[0;36m<module>\u001b[1;34m\u001b[0m\n\u001b[1;32m----> 1\u001b[1;33m \u001b[0mdelattr\u001b[0m\u001b[1;33m(\u001b[0m\u001b[0mpwskills4\u001b[0m\u001b[1;33m,\u001b[0m \u001b[1;34m\"details\"\u001b[0m\u001b[1;33m)\u001b[0m\u001b[1;33m\u001b[0m\u001b[1;33m\u001b[0m\u001b[0m\n\u001b[0m",
      "\u001b[1;31mAttributeError\u001b[0m: details"
     ]
    }
   ],
   "source": [
    "delattr(pwskills4, \"details\")"
   ]
  },
  {
   "cell_type": "code",
   "execution_count": 56,
   "id": "40410b91-e12b-454c-8506-974409ee6a06",
   "metadata": {},
   "outputs": [
    {
     "ename": "AttributeError",
     "evalue": "student_details",
     "output_type": "error",
     "traceback": [
      "\u001b[1;31m---------------------------------------------------------------------------\u001b[0m",
      "\u001b[1;31mAttributeError\u001b[0m                            Traceback (most recent call last)",
      "\u001b[1;32m~\\AppData\\Local\\Temp\\ipykernel_7764\\3819558211.py\u001b[0m in \u001b[0;36m<module>\u001b[1;34m\u001b[0m\n\u001b[1;32m----> 1\u001b[1;33m \u001b[0mdelattr\u001b[0m\u001b[1;33m(\u001b[0m\u001b[0mpwskills4\u001b[0m\u001b[1;33m,\u001b[0m \u001b[1;34m\"student_details\"\u001b[0m\u001b[1;33m)\u001b[0m\u001b[1;33m\u001b[0m\u001b[1;33m\u001b[0m\u001b[0m\n\u001b[0m",
      "\u001b[1;31mAttributeError\u001b[0m: student_details"
     ]
    }
   ],
   "source": [
    "delattr(pwskills4, \"student_details\")"
   ]
  },
  {
   "cell_type": "code",
   "execution_count": null,
   "id": "0e6b20ab-ab99-476b-958a-7e29b8448fdf",
   "metadata": {},
   "outputs": [],
   "source": []
  }
 ],
 "metadata": {
  "kernelspec": {
   "display_name": "Python 3 (ipykernel)",
   "language": "python",
   "name": "python3"
  },
  "language_info": {
   "codemirror_mode": {
    "name": "ipython",
    "version": 3
   },
   "file_extension": ".py",
   "mimetype": "text/x-python",
   "name": "python",
   "nbconvert_exporter": "python",
   "pygments_lexer": "ipython3",
   "version": "3.9.13"
  }
 },
 "nbformat": 4,
 "nbformat_minor": 5
}
