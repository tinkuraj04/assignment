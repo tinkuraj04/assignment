{
 "cells": [
  {
   "cell_type": "code",
   "execution_count": 1,
   "id": "bfdef0a2-2fc3-4f1d-b3ff-719c012ae3ee",
   "metadata": {},
   "outputs": [
    {
     "data": {
      "text/plain": [
       "2"
      ]
     },
     "execution_count": 1,
     "metadata": {},
     "output_type": "execute_result"
    }
   ],
   "source": [
    "1+1"
   ]
  },
  {
   "cell_type": "code",
   "execution_count": 2,
   "id": "00222be5-d934-4c26-bf7a-aa7512dc4c6e",
   "metadata": {},
   "outputs": [],
   "source": [
    "a = 1"
   ]
  },
  {
   "cell_type": "code",
   "execution_count": 3,
   "id": "badd8d33-bdc9-4846-99c9-9e878863a63e",
   "metadata": {},
   "outputs": [
    {
     "name": "stdout",
     "output_type": "stream",
     "text": [
      "<class 'int'>\n"
     ]
    }
   ],
   "source": [
    "print(type(a))"
   ]
  },
  {
   "cell_type": "code",
   "execution_count": 4,
   "id": "ce50a818-b832-48c6-895e-6f0183464dbf",
   "metadata": {},
   "outputs": [
    {
     "name": "stdout",
     "output_type": "stream",
     "text": [
      "<class 'str'>\n"
     ]
    }
   ],
   "source": [
    "print (type(\"pwskills\"))"
   ]
  },
  {
   "cell_type": "code",
   "execution_count": 7,
   "id": "a87bac92-9725-4680-9c97-8f3d55f40b0e",
   "metadata": {},
   "outputs": [],
   "source": [
    "class test:\n",
    "    pass"
   ]
  },
  {
   "cell_type": "code",
   "execution_count": 8,
   "id": "37b324ec-fb8d-4bb4-8b22-4784e269f50c",
   "metadata": {},
   "outputs": [],
   "source": [
    "a = test()"
   ]
  },
  {
   "cell_type": "code",
   "execution_count": 9,
   "id": "faab9460-4499-451e-9c4c-4a0f50870baf",
   "metadata": {},
   "outputs": [
    {
     "data": {
      "text/plain": [
       "__main__.test"
      ]
     },
     "execution_count": 9,
     "metadata": {},
     "output_type": "execute_result"
    }
   ],
   "source": [
    "type(a)"
   ]
  },
  {
   "cell_type": "code",
   "execution_count": 10,
   "id": "1f00dc39-78d1-461a-92ae-f1d24697fdce",
   "metadata": {},
   "outputs": [
    {
     "name": "stdout",
     "output_type": "stream",
     "text": [
      "<class '__main__.test'>\n"
     ]
    }
   ],
   "source": [
    "print(type(a))"
   ]
  },
  {
   "cell_type": "code",
   "execution_count": 17,
   "id": "f2bc5eea-3b03-4c2f-8275-20902f6c67d0",
   "metadata": {},
   "outputs": [],
   "source": [
    "class pwskills:\n",
    "    def welcome_msg(self):\n",
    "        print(\"welcome to pwskills\")"
   ]
  },
  {
   "cell_type": "code",
   "execution_count": 19,
   "id": "08b8383f-9dab-429f-9860-d00c9a8f48cc",
   "metadata": {},
   "outputs": [],
   "source": [
    "rohan = pwskills()"
   ]
  },
  {
   "cell_type": "code",
   "execution_count": 20,
   "id": "62a38e3a-9cf4-4b4e-8c7f-e293c00b9dab",
   "metadata": {},
   "outputs": [
    {
     "name": "stdout",
     "output_type": "stream",
     "text": [
      "<class '__main__.pwskills'>\n"
     ]
    }
   ],
   "source": [
    "print(type(rohan))"
   ]
  },
  {
   "cell_type": "code",
   "execution_count": 21,
   "id": "54207999-2b5f-4ae2-acc4-c2a2098d64f0",
   "metadata": {},
   "outputs": [
    {
     "name": "stdout",
     "output_type": "stream",
     "text": [
      "welcome to pwskills\n"
     ]
    }
   ],
   "source": [
    "rohan.welcome_msg()"
   ]
  },
  {
   "cell_type": "code",
   "execution_count": 22,
   "id": "1d7d70c3-551c-4634-8449-4ca27d53dab6",
   "metadata": {},
   "outputs": [],
   "source": [
    "gaurav = pwskills()"
   ]
  },
  {
   "cell_type": "raw",
   "id": "64f4ecc5-e34e-4998-9ef7-af2b39d1096c",
   "metadata": {},
   "source": [
    "gaurav.welcome_msg()"
   ]
  },
  {
   "cell_type": "code",
   "execution_count": 23,
   "id": "2c53ee77-d46b-4764-b928-61abcaa24a43",
   "metadata": {},
   "outputs": [
    {
     "name": "stdout",
     "output_type": "stream",
     "text": [
      "welcome to pwskills\n"
     ]
    }
   ],
   "source": [
    "gaurav.welcome_msg()"
   ]
  },
  {
   "cell_type": "code",
   "execution_count": 3,
   "id": "960e1369-0a08-4f4c-8f45-7f9879cdc2e5",
   "metadata": {},
   "outputs": [],
   "source": [
    "class pwskills1:\n",
    "    def __init__(self , phone_number , email_id , student_id):\n",
    "        self.phone_number = phone_number\n",
    "        self.email_id = email_id\n",
    "        self.student_id = student_id\n",
    "        \n",
    "        def return_student_details(self):\n",
    "            return self.student_id , self.phone_number,self.email_id\n",
    "    "
   ]
  },
  {
   "cell_type": "code",
   "execution_count": 4,
   "id": "920c3f2a-6892-4321-b167-0657bfb4f42f",
   "metadata": {},
   "outputs": [],
   "source": [
    "rohan = pwskills1(1234,\"rohan@gmail.com\",101)"
   ]
  },
  {
   "cell_type": "code",
   "execution_count": 31,
   "id": "764e7211-dd83-483f-95e8-e4faf5ccb08a",
   "metadata": {},
   "outputs": [
    {
     "data": {
      "text/plain": [
       "1"
      ]
     },
     "execution_count": 31,
     "metadata": {},
     "output_type": "execute_result"
    }
   ],
   "source": [
    "1"
   ]
  },
  {
   "cell_type": "markdown",
   "id": "b6c436d4-b4f2-4aef-8223-606c68ec3e79",
   "metadata": {},
   "source": [
    "polymorphism"
   ]
  },
  {
   "cell_type": "code",
   "execution_count": 32,
   "id": "c76b1a00-cd62-4de7-9277-72800a334517",
   "metadata": {},
   "outputs": [],
   "source": [
    "def test(a,b):\n",
    "    return a+b"
   ]
  },
  {
   "cell_type": "code",
   "execution_count": 33,
   "id": "817b432a-b2ef-45fb-9ee0-09684dc18ae2",
   "metadata": {},
   "outputs": [
    {
     "data": {
      "text/plain": [
       "5"
      ]
     },
     "execution_count": 33,
     "metadata": {},
     "output_type": "execute_result"
    }
   ],
   "source": [
    "test(2,3)"
   ]
  },
  {
   "cell_type": "code",
   "execution_count": 34,
   "id": "31b0fcf2-a08e-48aa-a248-444b114e0e33",
   "metadata": {},
   "outputs": [
    {
     "data": {
      "text/plain": [
       "7"
      ]
     },
     "execution_count": 34,
     "metadata": {},
     "output_type": "execute_result"
    }
   ],
   "source": [
    "test(3,4)"
   ]
  },
  {
   "cell_type": "code",
   "execution_count": 36,
   "id": "902b3b1b-8824-4aa1-ac67-7c5bcd056e2f",
   "metadata": {},
   "outputs": [
    {
     "data": {
      "text/plain": [
       "'sudh kumar'"
      ]
     },
     "execution_count": 36,
     "metadata": {},
     "output_type": "execute_result"
    }
   ],
   "source": [
    "test(\"sudh \", \"kumar\")"
   ]
  },
  {
   "cell_type": "code",
   "execution_count": 37,
   "id": "c07ef3ef-2e26-4152-b2d4-902243d8b01e",
   "metadata": {},
   "outputs": [
    {
     "data": {
      "text/plain": [
       "[2, 3, 4, 1, 2, 33]"
      ]
     },
     "execution_count": 37,
     "metadata": {},
     "output_type": "execute_result"
    }
   ],
   "source": [
    "test([2,3,4],[1,2,33])"
   ]
  },
  {
   "cell_type": "code",
   "execution_count": 64,
   "id": "53522a9f-446d-4d74-89fe-7d8950d7f593",
   "metadata": {},
   "outputs": [],
   "source": [
    "class data_science:\n",
    "    \n",
    "    def syllabus(self):\n",
    "        print(\"this is my syllabus for ds masters\")"
   ]
  },
  {
   "cell_type": "code",
   "execution_count": 65,
   "id": "3e26ab63-c236-4b61-89e9-e58fb4e9e0f0",
   "metadata": {},
   "outputs": [],
   "source": [
    "class web_dev:\n",
    "    \n",
    "    def syllabus(self):\n",
    "        print(\"this is my syllabus of web dev\")"
   ]
  },
  {
   "cell_type": "code",
   "execution_count": 66,
   "id": "f04948b3-d789-44b5-83c1-20c9dd3fbf84",
   "metadata": {},
   "outputs": [],
   "source": [
    "def class_parcer(class_obj):\n",
    "    for i in class_obj:\n",
    "        i.syllabus()"
   ]
  },
  {
   "cell_type": "code",
   "execution_count": 67,
   "id": "ee20343e-7431-4a50-9240-c71cd88ea085",
   "metadata": {},
   "outputs": [],
   "source": [
    "data_science = data_science()"
   ]
  },
  {
   "cell_type": "code",
   "execution_count": 68,
   "id": "5fa8ed42-3566-48e9-8c1a-8121f143bf5a",
   "metadata": {},
   "outputs": [],
   "source": [
    "web_dev = web_dev()"
   ]
  },
  {
   "cell_type": "code",
   "execution_count": 69,
   "id": "b47b55c0-5d2c-417b-a450-738fc9e83c4f",
   "metadata": {},
   "outputs": [],
   "source": [
    "class_obj = [data_science , web_dev]"
   ]
  },
  {
   "cell_type": "code",
   "execution_count": 70,
   "id": "e8c065ae-fb89-4ef9-996d-b85eb392d31a",
   "metadata": {},
   "outputs": [
    {
     "name": "stdout",
     "output_type": "stream",
     "text": [
      "this is my syllabus for ds masters\n",
      "this is my syllabus of web dev\n"
     ]
    }
   ],
   "source": [
    "class_parcer(class_obj)"
   ]
  },
  {
   "cell_type": "code",
   "execution_count": 1,
   "id": "46eea50f-9a14-4080-850f-c6113fb5b6ae",
   "metadata": {},
   "outputs": [
    {
     "data": {
      "text/plain": [
       "2"
      ]
     },
     "execution_count": 1,
     "metadata": {},
     "output_type": "execute_result"
    }
   ],
   "source": [
    "1+1"
   ]
  },
  {
   "cell_type": "markdown",
   "id": "124a90b3-db03-460c-b80d-c12b6b994796",
   "metadata": {},
   "source": [
    "encapsulation "
   ]
  },
  {
   "cell_type": "code",
   "execution_count": 5,
   "id": "5fd476da-d0d5-408e-8cdf-b3b3e9f9ca56",
   "metadata": {},
   "outputs": [],
   "source": [
    "class test :\n",
    "    \n",
    "    def __init__(self , a , b):\n",
    "        self.a = a\n",
    "        self.b = b"
   ]
  },
  {
   "cell_type": "code",
   "execution_count": 6,
   "id": "20c35fb6-2607-4398-b9de-3d9cfce2f663",
   "metadata": {},
   "outputs": [],
   "source": [
    "t = test(23,34)"
   ]
  },
  {
   "cell_type": "code",
   "execution_count": 7,
   "id": "ba86e4ab-6f6c-4cbf-bdaf-7a22cb4cbc3d",
   "metadata": {},
   "outputs": [],
   "source": [
    "t.a = 2345654"
   ]
  },
  {
   "cell_type": "code",
   "execution_count": 8,
   "id": "43d9bc16-4b59-4904-8cda-e1c989a3fcfc",
   "metadata": {},
   "outputs": [
    {
     "data": {
      "text/plain": [
       "2345654"
      ]
     },
     "execution_count": 8,
     "metadata": {},
     "output_type": "execute_result"
    }
   ],
   "source": [
    "t.a"
   ]
  },
  {
   "cell_type": "code",
   "execution_count": 13,
   "id": "66a4563a-b9a5-4883-bb7a-bfcc5876f653",
   "metadata": {},
   "outputs": [],
   "source": [
    "class car :\n",
    "    def __init__(self , year , make , model , speed ):\n",
    "        self.__year = year\n",
    "        self.__make = make\n",
    "        self.__model= model\n",
    "        self.__speed= speed\n",
    "    def set_speeed(self , speed):\n",
    "        self.__speed = 0 if speed < 0 else speed\n",
    "        \n",
    "    def get_speed(self):\n",
    "        return self.__speed"
   ]
  },
  {
   "cell_type": "code",
   "execution_count": 10,
   "id": "60a41cb7-cd36-4c38-b170-39df19dba408",
   "metadata": {},
   "outputs": [],
   "source": [
    "c= car(2002, \"toyota\", \"innova\", 12)"
   ]
  },
  {
   "cell_type": "code",
   "execution_count": 11,
   "id": "109fd5b6-3657-42b1-bcc4-cce2ca9c496f",
   "metadata": {},
   "outputs": [
    {
     "data": {
      "text/plain": [
       "2002"
      ]
     },
     "execution_count": 11,
     "metadata": {},
     "output_type": "execute_result"
    }
   ],
   "source": [
    "c._car__year"
   ]
  },
  {
   "cell_type": "markdown",
   "id": "dc2c2da2-bb1a-4508-88d8-6af5da31f995",
   "metadata": {},
   "source": [
    "Inheritance "
   ]
  },
  {
   "cell_type": "code",
   "execution_count": 1,
   "id": "236725a2-e742-46df-9564-57a0f52a4bf3",
   "metadata": {},
   "outputs": [],
   "source": [
    "class test:\n",
    "    def test_meth(self):\n",
    "        return \"this is my first class\""
   ]
  },
  {
   "cell_type": "code",
   "execution_count": 2,
   "id": "833b761b-5242-4960-90c3-839d9dfe55b7",
   "metadata": {},
   "outputs": [],
   "source": [
    "class child_test(test):\n",
    "    pass"
   ]
  },
  {
   "cell_type": "code",
   "execution_count": 3,
   "id": "c3953f78-af52-4106-8c5d-5a63ddd4554d",
   "metadata": {},
   "outputs": [],
   "source": [
    "child_test_obj = child_test()"
   ]
  },
  {
   "cell_type": "code",
   "execution_count": 4,
   "id": "2f8c4c24-b0d9-4b8a-b194-7074352f806c",
   "metadata": {},
   "outputs": [
    {
     "data": {
      "text/plain": [
       "'this is my first class'"
      ]
     },
     "execution_count": 4,
     "metadata": {},
     "output_type": "execute_result"
    }
   ],
   "source": [
    "child_test_obj.test_meth()"
   ]
  },
  {
   "cell_type": "code",
   "execution_count": 5,
   "id": "1f99f5b9-8975-418d-afdf-3777e02055f5",
   "metadata": {},
   "outputs": [],
   "source": [
    "class class1:\n",
    "    def test_class1(self):\n",
    "        return \"this is a meth from class1\""
   ]
  },
  {
   "cell_type": "code",
   "execution_count": 6,
   "id": "b1bb1ae2-4af8-465e-a146-6fe919c13b62",
   "metadata": {},
   "outputs": [],
   "source": [
    "class class2(class1):\n",
    "    def test_class2(self):\n",
    "        return \"this is a method from class2\""
   ]
  },
  {
   "cell_type": "code",
   "execution_count": 7,
   "id": "98a69014-d351-4371-94a2-260e3d3e92f1",
   "metadata": {},
   "outputs": [],
   "source": [
    "class class3(class2):\n",
    "    pass"
   ]
  },
  {
   "cell_type": "code",
   "execution_count": 8,
   "id": "73302c43-2317-41e8-911f-8287bd3139b1",
   "metadata": {},
   "outputs": [],
   "source": [
    "obj_class3 = class2()"
   ]
  },
  {
   "cell_type": "code",
   "execution_count": 10,
   "id": "f29a8cbc-069d-410e-83b2-80a5472c3d14",
   "metadata": {},
   "outputs": [
    {
     "data": {
      "text/plain": [
       "'this is a meth from class1'"
      ]
     },
     "execution_count": 10,
     "metadata": {},
     "output_type": "execute_result"
    }
   ],
   "source": [
    "obj_class3.test_class1()"
   ]
  },
  {
   "cell_type": "code",
   "execution_count": 11,
   "id": "96622c8f-f993-41d8-950f-2291714d6e67",
   "metadata": {},
   "outputs": [
    {
     "data": {
      "text/plain": [
       "'this is a method from class2'"
      ]
     },
     "execution_count": 11,
     "metadata": {},
     "output_type": "execute_result"
    }
   ],
   "source": [
    "obj_class3.test_class2()"
   ]
  },
  {
   "cell_type": "code",
   "execution_count": 37,
   "id": "94926846-9834-42eb-baca-5ea49d70bfc8",
   "metadata": {},
   "outputs": [],
   "source": [
    "class class1:\n",
    "    def test_class1(self):\n",
    "        return \"this is a class1\""
   ]
  },
  {
   "cell_type": "code",
   "execution_count": 38,
   "id": "b88cd3b9-a655-440f-8db9-e2fae589026d",
   "metadata": {},
   "outputs": [],
   "source": [
    "class class2:\n",
    "    def test_class2(self):\n",
    "        return \"this is class2\""
   ]
  },
  {
   "cell_type": "code",
   "execution_count": 39,
   "id": "f9003c72-33d8-4383-b10b-76b92b8318fa",
   "metadata": {},
   "outputs": [],
   "source": [
    "class class3(class1 , class2):\n",
    "    pass"
   ]
  },
  {
   "cell_type": "code",
   "execution_count": 40,
   "id": "0cb3f2e1-bd31-441c-adf7-15a3a5e2cfec",
   "metadata": {},
   "outputs": [],
   "source": [
    "obj_class3 = class3()"
   ]
  },
  {
   "cell_type": "code",
   "execution_count": 41,
   "id": "d111f18a-7a31-40e2-bb29-37441c71d86f",
   "metadata": {},
   "outputs": [
    {
     "data": {
      "text/plain": [
       "'this is a class1'"
      ]
     },
     "execution_count": 41,
     "metadata": {},
     "output_type": "execute_result"
    }
   ],
   "source": [
    "obj_class3.test_class1()\n"
   ]
  },
  {
   "cell_type": "code",
   "execution_count": 35,
   "id": "dbd319c1-ff42-496b-8df0-ab545f088e23",
   "metadata": {},
   "outputs": [
    {
     "data": {
      "text/plain": [
       "'this is class2'"
      ]
     },
     "execution_count": 35,
     "metadata": {},
     "output_type": "execute_result"
    }
   ],
   "source": [
    "obj_class3.test_class2()"
   ]
  },
  {
   "cell_type": "markdown",
   "id": "fd261a19-0857-43f3-a088-76f40d06166b",
   "metadata": {},
   "source": [
    "Abstraction"
   ]
  },
  {
   "cell_type": "code",
   "execution_count": 42,
   "id": "db7b88d9-5a2f-4422-af37-725b1d517003",
   "metadata": {},
   "outputs": [],
   "source": [
    "class pwskills:\n",
    "    @abc.abstractmethod\n",
    "    def studdents_details(self):\n",
    "        pass\n",
    "    @abc.abstractmethod\n",
    "    def student_assignment(self):\n",
    "        pass\n",
    "    @abc.abstractmethod\n",
    "    def student_marks(self):\n",
    "        pass\n",
    "    "
   ]
  },
  {
   "cell_type": "code",
   "execution_count": 43,
   "id": "bd800873-56be-41f1-bdcc-67da08d4667e",
   "metadata": {},
   "outputs": [],
   "source": [
    "class student_details(pwskills):\n",
    "    def student_details(self):\n",
    "        return \"this is a method for taking students details\"\n",
    "    def student_assignment(self):\n",
    "        return \"this is a meth for assing details for a particular student\""
   ]
  },
  {
   "cell_type": "code",
   "execution_count": 45,
   "id": "40369dcf-69c9-4b21-b210-a697cb2bc5e9",
   "metadata": {},
   "outputs": [],
   "source": [
    "class data_science_masters(pwskills):\n",
    "    def students_details(self):\n",
    "        return \"this will return a student details for data science masters\"\n",
    "    def student_assignment(self):\n",
    "        return \"this will give you a assignment details for data science masters\""
   ]
  },
  {
   "cell_type": "code",
   "execution_count": 47,
   "id": "d8bdf969-5def-4023-ad7e-bf0f6df42d21",
   "metadata": {},
   "outputs": [
    {
     "data": {
      "text/plain": [
       "'this will return a student details for data science masters'"
      ]
     },
     "execution_count": 47,
     "metadata": {},
     "output_type": "execute_result"
    }
   ],
   "source": [
    "dsm = data_science_masters()\n",
    "dsm.students_details()\n"
   ]
  },
  {
   "cell_type": "code",
   "execution_count": null,
   "id": "48be6978-0c6c-4454-a1b7-85a55f0ea3f8",
   "metadata": {},
   "outputs": [],
   "source": []
  }
 ],
 "metadata": {
  "kernelspec": {
   "display_name": "Python 3 (ipykernel)",
   "language": "python",
   "name": "python3"
  },
  "language_info": {
   "codemirror_mode": {
    "name": "ipython",
    "version": 3
   },
   "file_extension": ".py",
   "mimetype": "text/x-python",
   "name": "python",
   "nbconvert_exporter": "python",
   "pygments_lexer": "ipython3",
   "version": "3.9.13"
  }
 },
 "nbformat": 4,
 "nbformat_minor": 5
}
